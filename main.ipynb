{
 "cells": [
  {
   "metadata": {},
   "cell_type": "markdown",
   "source": "# 1 Import Libraries\n",
   "id": "35bfb780dc8e4b2d"
  },
  {
   "metadata": {
    "ExecuteTime": {
     "end_time": "2025-01-22T04:22:45.074771Z",
     "start_time": "2025-01-22T04:22:43.290422Z"
    }
   },
   "cell_type": "code",
   "source": [
    "import numpy as np\n",
    "import pandas as pd\n",
    "import seaborn as sns\n",
    "import matplotlib.pyplot as plt\n",
    "\n",
    "from sklearn.model_selection import train_test_split, KFold, cross_val_score\n",
    "from sklearn.preprocessing import LabelEncoder\n",
    "from sklearn.impute import SimpleImputer\n",
    "from sklearn.metrics import mean_squared_error\n",
    "from sklearn.linear_model import Ridge, Lasso\n",
    "from sklearn.ensemble import RandomForestRegressor\n",
    "import xgboost as xgb\n",
    "import lightgbm as lgb"
   ],
   "id": "b858b5a9573b844f",
   "outputs": [],
   "execution_count": 1
  },
  {
   "metadata": {},
   "cell_type": "markdown",
   "source": "# 2 Load the Data",
   "id": "ec60bddd5010d745"
  },
  {
   "metadata": {
    "ExecuteTime": {
     "end_time": "2025-01-22T04:23:40.629911Z",
     "start_time": "2025-01-22T04:23:40.577763Z"
    }
   },
   "cell_type": "code",
   "source": [
    "train=pd.read_csv('train.csv')\n",
    "test=pd.read_csv('test.csv')\n",
    "\n",
    "print(\"Train shape\", train.shape)\n",
    "print(\"Test shape\", test.shape)"
   ],
   "id": "4449d49be4034320",
   "outputs": [
    {
     "name": "stdout",
     "output_type": "stream",
     "text": [
      "Train shape (1460, 81)\n",
      "Test shape (1459, 80)\n"
     ]
    }
   ],
   "execution_count": 4
  },
  {
   "metadata": {},
   "cell_type": "markdown",
   "source": "# 4 Combining the train test for preprocessing",
   "id": "77d5c1f1e0292cc7"
  },
  {
   "metadata": {
    "ExecuteTime": {
     "end_time": "2025-01-22T04:25:49.748026Z",
     "start_time": "2025-01-22T04:25:49.729963Z"
    }
   },
   "cell_type": "code",
   "source": [
    "train_ID=train[\"Id\"]\n",
    "test_ID=test[\"Id\"]\n",
    "\n",
    "train.drop([\"Id\"], axis=1, inplace=True)\n",
    "test.drop([\"Id\"], axis=1, inplace=True)\n",
    "\n",
    "n_train=train.shape[0]\n",
    "combined=pd.concat([train,test],ignore_index=True)\n",
    "\n",
    "print(\"Combined shape:\", combined.shape)"
   ],
   "id": "539e545757bd809",
   "outputs": [
    {
     "name": "stdout",
     "output_type": "stream",
     "text": [
      "Combined shape: (2919, 80)\n"
     ]
    }
   ],
   "execution_count": 6
  },
  {
   "metadata": {
    "ExecuteTime": {
     "end_time": "2025-01-22T04:26:57.806682Z",
     "start_time": "2025-01-22T04:26:57.796564Z"
    }
   },
   "cell_type": "code",
   "source": "combined.loc[:n_train-1,'SalePrice']=np.log(combined.loc[:n_train-1,'SalePrice'])",
   "id": "94b597c45d2ecfab",
   "outputs": [],
   "execution_count": 7
  },
  {
   "metadata": {
    "ExecuteTime": {
     "end_time": "2025-01-22T04:27:43.375338Z",
     "start_time": "2025-01-22T04:27:43.330738Z"
    }
   },
   "cell_type": "code",
   "source": [
    "missing=combined.isnull().sum().sort_values(ascending=False)\n",
    "missing = missing[missing>0]\n",
    "print(missing)"
   ],
   "id": "dc10345d9aebba59",
   "outputs": [
    {
     "name": "stdout",
     "output_type": "stream",
     "text": [
      "PoolQC          2909\n",
      "MiscFeature     2814\n",
      "Alley           2721\n",
      "Fence           2348\n",
      "MasVnrType      1766\n",
      "SalePrice       1459\n",
      "FireplaceQu     1420\n",
      "LotFrontage      486\n",
      "GarageYrBlt      159\n",
      "GarageCond       159\n",
      "GarageQual       159\n",
      "GarageFinish     159\n",
      "GarageType       157\n",
      "BsmtExposure      82\n",
      "BsmtCond          82\n",
      "BsmtQual          81\n",
      "BsmtFinType2      80\n",
      "BsmtFinType1      79\n",
      "MasVnrArea        23\n",
      "MSZoning           4\n",
      "Utilities          2\n",
      "Functional         2\n",
      "BsmtFullBath       2\n",
      "BsmtHalfBath       2\n",
      "BsmtFinSF2         1\n",
      "BsmtFinSF1         1\n",
      "TotalBsmtSF        1\n",
      "BsmtUnfSF          1\n",
      "SaleType           1\n",
      "KitchenQual        1\n",
      "GarageCars         1\n",
      "GarageArea         1\n",
      "Exterior2nd        1\n",
      "Exterior1st        1\n",
      "Electrical         1\n",
      "dtype: int64\n"
     ]
    }
   ],
   "execution_count": 8
  },
  {
   "metadata": {},
   "cell_type": "code",
   "outputs": [],
   "execution_count": null,
   "source": "",
   "id": "c4554c9c9deddd68"
  }
 ],
 "metadata": {
  "kernelspec": {
   "display_name": "Python 3",
   "language": "python",
   "name": "python3"
  },
  "language_info": {
   "codemirror_mode": {
    "name": "ipython",
    "version": 2
   },
   "file_extension": ".py",
   "mimetype": "text/x-python",
   "name": "python",
   "nbconvert_exporter": "python",
   "pygments_lexer": "ipython2",
   "version": "2.7.6"
  }
 },
 "nbformat": 4,
 "nbformat_minor": 5
}
